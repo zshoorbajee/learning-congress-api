{
 "cells": [
  {
   "cell_type": "code",
   "execution_count": 1,
   "metadata": {},
   "outputs": [],
   "source": [
    "import requests\n",
    "import json\n",
    "import pandas as pd"
   ]
  },
  {
   "cell_type": "code",
   "execution_count": 2,
   "metadata": {},
   "outputs": [],
   "source": [
    "def get_keys(path_txt, api_json_name):\n",
    "    with open(path_txt) as f_txt:\n",
    "        path = f_txt.readlines()[0]\n",
    "    with open(path + '/' + api_json_name) as f_json:\n",
    "        return json.load(f_json)\n",
    "\n",
    "keys = get_keys(\"path_to_keys.txt\", 'propublica_congress_api.json')\n",
    "\n",
    "api_key = keys[\"X-API-Key\"]"
   ]
  },
  {
   "cell_type": "code",
   "execution_count": 3,
   "metadata": {},
   "outputs": [
    {
     "name": "stdout",
     "output_type": "stream",
     "text": [
      "<Response [200]>\n",
      "\n",
      "<class 'requests.models.Response'>\n",
      "\n",
      "{\n",
      "   \"status\":\"OK\",\n",
      "   \"copyright\":\"Copyright (c) 2023 Pro Publica Inc. All Rights Reserved.\",\n",
      "   \"results\":[\n",
      "      {\n",
      "         \"id\": \"S000033\",\n",
      "         \"member_id\": \"S000033\",\n",
      "         \n",
      "         \"first_name\": \"Bernard\",\n",
      "         \"middle_name\": null,\n",
      "         \"last_name\": \"Sanders\",\n",
      "         \"suffix\": null,\n",
      "         \"date_of_birth\": \"1941-09-08\",\n",
      "         \"gender\": \"M\",\n",
      "         \"url\": \"https://www.sanders.senate.gov\",\n",
      "         \"times_topics_url\": \"http://topics.nytimes.com/top/reference/timesto\n"
     ]
    }
   ],
   "source": [
    "url = 'https://api.propublica.org/congress/v1/members/S000033.json'\n",
    "\n",
    "parameters = {\n",
    "    'chamber': 'senate'\n",
    "    }\n",
    "\n",
    "response = requests.get(url, headers=keys)\n",
    "print(response)\n",
    "print()\n",
    "print(type(response))\n",
    "print()\n",
    "print(response.text[:500])"
   ]
  },
  {
   "cell_type": "code",
   "execution_count": 4,
   "metadata": {},
   "outputs": [
    {
     "data": {
      "text/plain": [
       "dict_keys(['id', 'member_id', 'first_name', 'middle_name', 'last_name', 'suffix', 'date_of_birth', 'gender', 'url', 'times_topics_url', 'times_tag', 'govtrack_id', 'cspan_id', 'votesmart_id', 'icpsr_id', 'twitter_account', 'facebook_account', 'youtube_account', 'crp_id', 'google_entity_id', 'rss_url', 'in_office', 'current_party', 'most_recent_vote', 'last_updated', 'roles'])"
      ]
     },
     "execution_count": 4,
     "metadata": {},
     "output_type": "execute_result"
    }
   ],
   "source": [
    "response.json()['results'][0].keys()"
   ]
  },
  {
   "cell_type": "code",
   "execution_count": 5,
   "metadata": {},
   "outputs": [],
   "source": [
    "bernie = response.json()['results'][0]"
   ]
  },
  {
   "cell_type": "code",
   "execution_count": 6,
   "metadata": {},
   "outputs": [
    {
     "data": {
      "text/plain": [
       "dict_keys(['congress', 'chamber', 'title', 'short_title', 'state', 'party', 'leadership_role', 'fec_candidate_id', 'seniority', 'senate_class', 'state_rank', 'lis_id', 'ocd_id', 'start_date', 'end_date', 'office', 'phone', 'fax', 'contact_form', 'cook_pvi', 'dw_nominate', 'ideal_point', 'next_election', 'total_votes', 'missed_votes', 'total_present', 'bills_sponsored', 'bills_cosponsored', 'missed_votes_pct', 'votes_with_party_pct', 'votes_against_party_pct', 'committees', 'subcommittees'])"
      ]
     },
     "execution_count": 6,
     "metadata": {},
     "output_type": "execute_result"
    }
   ],
   "source": [
    "bernie['roles'][0].keys()"
   ]
  },
  {
   "cell_type": "code",
   "execution_count": 7,
   "metadata": {},
   "outputs": [
    {
     "data": {
      "text/plain": [
       "{'congress': '118',\n",
       " 'chamber': 'Senate',\n",
       " 'title': 'Senator, 1st Class',\n",
       " 'short_title': 'Sen.',\n",
       " 'state': 'VT',\n",
       " 'party': 'ID',\n",
       " 'leadership_role': None,\n",
       " 'fec_candidate_id': 'H8VT01016',\n",
       " 'seniority': '17',\n",
       " 'senate_class': '1',\n",
       " 'state_rank': 'senior',\n",
       " 'lis_id': 'S313',\n",
       " 'ocd_id': 'ocd-division/country:us/state:vt',\n",
       " 'start_date': '2023-01-03',\n",
       " 'end_date': '2025-01-03',\n",
       " 'office': '332 Dirksen Senate Office Building',\n",
       " 'phone': '202-224-5141',\n",
       " 'fax': None,\n",
       " 'contact_form': 'https://www.sanders.senate.gov/contact/',\n",
       " 'cook_pvi': None,\n",
       " 'dw_nominate': None,\n",
       " 'ideal_point': None,\n",
       " 'next_election': '2024',\n",
       " 'total_votes': None,\n",
       " 'missed_votes': None,\n",
       " 'total_present': None,\n",
       " 'bills_sponsored': 0,\n",
       " 'bills_cosponsored': 0,\n",
       " 'missed_votes_pct': None,\n",
       " 'votes_with_party_pct': None,\n",
       " 'votes_against_party_pct': None,\n",
       " 'committees': [],\n",
       " 'subcommittees': []}"
      ]
     },
     "execution_count": 7,
     "metadata": {},
     "output_type": "execute_result"
    }
   ],
   "source": [
    "bernie['roles'][0]"
   ]
  },
  {
   "cell_type": "code",
   "execution_count": null,
   "metadata": {},
   "outputs": [],
   "source": []
  }
 ],
 "metadata": {
  "kernelspec": {
   "display_name": "continuing-env",
   "language": "python",
   "name": "python3"
  },
  "language_info": {
   "codemirror_mode": {
    "name": "ipython",
    "version": 3
   },
   "file_extension": ".py",
   "mimetype": "text/x-python",
   "name": "python",
   "nbconvert_exporter": "python",
   "pygments_lexer": "ipython3",
   "version": "3.8.5"
  },
  "orig_nbformat": 4,
  "vscode": {
   "interpreter": {
    "hash": "6db15263885298708aa279b3fe52a73603a5d807d2310d4b3e96a94b3ac72903"
   }
  }
 },
 "nbformat": 4,
 "nbformat_minor": 2
}
